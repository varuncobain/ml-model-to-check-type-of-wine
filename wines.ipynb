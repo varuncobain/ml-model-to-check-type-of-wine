{
 "cells": [
  {
   "cell_type": "code",
   "execution_count": 1,
   "id": "ab53acff",
   "metadata": {},
   "outputs": [],
   "source": [
    "import pandas as pd\n"
   ]
  },
  {
   "cell_type": "code",
   "execution_count": 2,
   "id": "79f4caf8",
   "metadata": {},
   "outputs": [],
   "source": [
    "dataset = pd.read_csv(\"wine.csv\")"
   ]
  },
  {
   "cell_type": "code",
   "execution_count": 3,
   "id": "3881a7cd",
   "metadata": {},
   "outputs": [
    {
     "data": {
      "text/plain": [
       "(178, 14)"
      ]
     },
     "execution_count": 3,
     "metadata": {},
     "output_type": "execute_result"
    }
   ],
   "source": [
    "dataset.shape"
   ]
  },
  {
   "cell_type": "code",
   "execution_count": 4,
   "id": "b05e02d1",
   "metadata": {},
   "outputs": [
    {
     "name": "stdout",
     "output_type": "stream",
     "text": [
      "<class 'pandas.core.frame.DataFrame'>\n",
      "RangeIndex: 178 entries, 0 to 177\n",
      "Data columns (total 14 columns):\n",
      " #   Column                Non-Null Count  Dtype  \n",
      "---  ------                --------------  -----  \n",
      " 0   Wine                  178 non-null    int64  \n",
      " 1   Alcohol               178 non-null    float64\n",
      " 2   Malic.acid            178 non-null    float64\n",
      " 3   Ash                   178 non-null    float64\n",
      " 4   Acl                   178 non-null    float64\n",
      " 5   Mg                    178 non-null    int64  \n",
      " 6   Phenols               178 non-null    float64\n",
      " 7   Flavanoids            178 non-null    float64\n",
      " 8   Nonflavanoid.phenols  178 non-null    float64\n",
      " 9   Proanth               178 non-null    float64\n",
      " 10  Color.int             178 non-null    float64\n",
      " 11  Hue                   178 non-null    float64\n",
      " 12  OD                    178 non-null    float64\n",
      " 13  Proline               178 non-null    int64  \n",
      "dtypes: float64(11), int64(3)\n",
      "memory usage: 19.6 KB\n"
     ]
    }
   ],
   "source": [
    "dataset.info()"
   ]
  },
  {
   "cell_type": "code",
   "execution_count": 5,
   "id": "30147b7c",
   "metadata": {},
   "outputs": [
    {
     "data": {
      "text/plain": [
       "Index(['Wine', 'Alcohol', 'Malic.acid', 'Ash', 'Acl', 'Mg', 'Phenols',\n",
       "       'Flavanoids', 'Nonflavanoid.phenols', 'Proanth', 'Color.int', 'Hue',\n",
       "       'OD', 'Proline'],\n",
       "      dtype='object')"
      ]
     },
     "execution_count": 5,
     "metadata": {},
     "output_type": "execute_result"
    }
   ],
   "source": [
    "dataset.columns"
   ]
  },
  {
   "cell_type": "code",
   "execution_count": 6,
   "id": "9b3e5d12",
   "metadata": {},
   "outputs": [],
   "source": [
    "y=dataset[\"Wine\"]"
   ]
  },
  {
   "cell_type": "code",
   "execution_count": 7,
   "id": "9cb7171b",
   "metadata": {},
   "outputs": [
    {
     "data": {
      "text/plain": [
       "(178,)"
      ]
     },
     "execution_count": 7,
     "metadata": {},
     "output_type": "execute_result"
    }
   ],
   "source": [
    "y.shape"
   ]
  },
  {
   "cell_type": "code",
   "execution_count": 8,
   "id": "b96df0ee",
   "metadata": {},
   "outputs": [],
   "source": [
    "x = dataset[['Alcohol', 'Malic.acid', 'Ash', 'Acl', 'Mg', 'Phenols',\n",
    "       'Flavanoids', 'Nonflavanoid.phenols', 'Proanth', 'Color.int', 'Hue',\n",
    "       'OD', 'Proline']]"
   ]
  },
  {
   "cell_type": "code",
   "execution_count": 9,
   "id": "073e8845",
   "metadata": {},
   "outputs": [
    {
     "data": {
      "text/plain": [
       "Index(['Alcohol', 'Malic.acid', 'Ash', 'Acl', 'Mg', 'Phenols', 'Flavanoids',\n",
       "       'Nonflavanoid.phenols', 'Proanth', 'Color.int', 'Hue', 'OD', 'Proline'],\n",
       "      dtype='object')"
      ]
     },
     "execution_count": 9,
     "metadata": {},
     "output_type": "execute_result"
    }
   ],
   "source": [
    "x.columns"
   ]
  },
  {
   "cell_type": "code",
   "execution_count": 10,
   "id": "f6c567ed",
   "metadata": {},
   "outputs": [
    {
     "data": {
      "text/plain": [
       "pandas.core.series.Series"
      ]
     },
     "execution_count": 10,
     "metadata": {},
     "output_type": "execute_result"
    }
   ],
   "source": [
    "type(y)"
   ]
  },
  {
   "cell_type": "code",
   "execution_count": 11,
   "id": "569a3ad1",
   "metadata": {},
   "outputs": [
    {
     "data": {
      "text/plain": [
       "2    71\n",
       "1    59\n",
       "3    48\n",
       "Name: Wine, dtype: int64"
      ]
     },
     "execution_count": 11,
     "metadata": {},
     "output_type": "execute_result"
    }
   ],
   "source": [
    "y.value_counts()"
   ]
  },
  {
   "cell_type": "code",
   "execution_count": 12,
   "id": "e318b1cf",
   "metadata": {},
   "outputs": [],
   "source": [
    "y_cat = pd.get_dummies(y)"
   ]
  },
  {
   "cell_type": "code",
   "execution_count": 13,
   "id": "85128959",
   "metadata": {},
   "outputs": [
    {
     "data": {
      "text/html": [
       "<div>\n",
       "<style scoped>\n",
       "    .dataframe tbody tr th:only-of-type {\n",
       "        vertical-align: middle;\n",
       "    }\n",
       "\n",
       "    .dataframe tbody tr th {\n",
       "        vertical-align: top;\n",
       "    }\n",
       "\n",
       "    .dataframe thead th {\n",
       "        text-align: right;\n",
       "    }\n",
       "</style>\n",
       "<table border=\"1\" class=\"dataframe\">\n",
       "  <thead>\n",
       "    <tr style=\"text-align: right;\">\n",
       "      <th></th>\n",
       "      <th>1</th>\n",
       "      <th>2</th>\n",
       "      <th>3</th>\n",
       "    </tr>\n",
       "  </thead>\n",
       "  <tbody>\n",
       "    <tr>\n",
       "      <th>0</th>\n",
       "      <td>1</td>\n",
       "      <td>0</td>\n",
       "      <td>0</td>\n",
       "    </tr>\n",
       "    <tr>\n",
       "      <th>1</th>\n",
       "      <td>1</td>\n",
       "      <td>0</td>\n",
       "      <td>0</td>\n",
       "    </tr>\n",
       "    <tr>\n",
       "      <th>2</th>\n",
       "      <td>1</td>\n",
       "      <td>0</td>\n",
       "      <td>0</td>\n",
       "    </tr>\n",
       "    <tr>\n",
       "      <th>3</th>\n",
       "      <td>1</td>\n",
       "      <td>0</td>\n",
       "      <td>0</td>\n",
       "    </tr>\n",
       "    <tr>\n",
       "      <th>4</th>\n",
       "      <td>1</td>\n",
       "      <td>0</td>\n",
       "      <td>0</td>\n",
       "    </tr>\n",
       "    <tr>\n",
       "      <th>...</th>\n",
       "      <td>...</td>\n",
       "      <td>...</td>\n",
       "      <td>...</td>\n",
       "    </tr>\n",
       "    <tr>\n",
       "      <th>173</th>\n",
       "      <td>0</td>\n",
       "      <td>0</td>\n",
       "      <td>1</td>\n",
       "    </tr>\n",
       "    <tr>\n",
       "      <th>174</th>\n",
       "      <td>0</td>\n",
       "      <td>0</td>\n",
       "      <td>1</td>\n",
       "    </tr>\n",
       "    <tr>\n",
       "      <th>175</th>\n",
       "      <td>0</td>\n",
       "      <td>0</td>\n",
       "      <td>1</td>\n",
       "    </tr>\n",
       "    <tr>\n",
       "      <th>176</th>\n",
       "      <td>0</td>\n",
       "      <td>0</td>\n",
       "      <td>1</td>\n",
       "    </tr>\n",
       "    <tr>\n",
       "      <th>177</th>\n",
       "      <td>0</td>\n",
       "      <td>0</td>\n",
       "      <td>1</td>\n",
       "    </tr>\n",
       "  </tbody>\n",
       "</table>\n",
       "<p>178 rows × 3 columns</p>\n",
       "</div>"
      ],
      "text/plain": [
       "     1  2  3\n",
       "0    1  0  0\n",
       "1    1  0  0\n",
       "2    1  0  0\n",
       "3    1  0  0\n",
       "4    1  0  0\n",
       "..  .. .. ..\n",
       "173  0  0  1\n",
       "174  0  0  1\n",
       "175  0  0  1\n",
       "176  0  0  1\n",
       "177  0  0  1\n",
       "\n",
       "[178 rows x 3 columns]"
      ]
     },
     "execution_count": 13,
     "metadata": {},
     "output_type": "execute_result"
    }
   ],
   "source": [
    "y_cat"
   ]
  },
  {
   "cell_type": "code",
   "execution_count": 14,
   "id": "2387c5d0",
   "metadata": {},
   "outputs": [],
   "source": [
    "in_shape = x.shape[1]"
   ]
  },
  {
   "cell_type": "code",
   "execution_count": 15,
   "id": "c4b8ea0b",
   "metadata": {},
   "outputs": [],
   "source": [
    "import seaborn as sns \n"
   ]
  },
  {
   "cell_type": "code",
   "execution_count": 16,
   "id": "798421d1",
   "metadata": {},
   "outputs": [
    {
     "data": {
      "text/plain": [
       "pandas.core.frame.DataFrame"
      ]
     },
     "execution_count": 16,
     "metadata": {},
     "output_type": "execute_result"
    }
   ],
   "source": [
    "type(dataset)"
   ]
  },
  {
   "cell_type": "code",
   "execution_count": 17,
   "id": "dd4c76ea",
   "metadata": {},
   "outputs": [],
   "source": [
    "#sns.scatterplot(x=\"Alcohol\",y=\"Wine\",dataset)"
   ]
  },
  {
   "cell_type": "code",
   "execution_count": 18,
   "id": "4512ee35",
   "metadata": {},
   "outputs": [],
   "source": [
    "from keras.models import Sequential"
   ]
  },
  {
   "cell_type": "code",
   "execution_count": 19,
   "id": "ca0cb1c4",
   "metadata": {},
   "outputs": [],
   "source": [
    "model = Sequential()"
   ]
  },
  {
   "cell_type": "code",
   "execution_count": 20,
   "id": "252d560a",
   "metadata": {},
   "outputs": [],
   "source": [
    "from keras.layers import Dense"
   ]
  },
  {
   "cell_type": "code",
   "execution_count": 21,
   "id": "ccf3ea62",
   "metadata": {},
   "outputs": [
    {
     "data": {
      "text/plain": [
       "{'name': 'sequential', 'layers': []}"
      ]
     },
     "execution_count": 21,
     "metadata": {},
     "output_type": "execute_result"
    }
   ],
   "source": [
    "model.get_config()"
   ]
  },
  {
   "cell_type": "code",
   "execution_count": 22,
   "id": "326bc605",
   "metadata": {},
   "outputs": [
    {
     "data": {
      "text/plain": [
       "<keras.engine.sequential.Sequential at 0x1e0a2fd75e0>"
      ]
     },
     "execution_count": 22,
     "metadata": {},
     "output_type": "execute_result"
    }
   ],
   "source": [
    "model"
   ]
  },
  {
   "cell_type": "code",
   "execution_count": 23,
   "id": "0ab12150",
   "metadata": {},
   "outputs": [],
   "source": [
    "model.add(Dense(\n",
    "        units = 6,\n",
    "        input_shape = (in_shape,),\n",
    "        activation = 'relu',\n",
    "        kernel_initializer = 'he_normal',\n",
    "))"
   ]
  },
  {
   "cell_type": "code",
   "execution_count": 24,
   "id": "4b87ba41",
   "metadata": {},
   "outputs": [
    {
     "data": {
      "text/plain": [
       "{'name': 'sequential',\n",
       " 'layers': [{'class_name': 'InputLayer',\n",
       "   'config': {'batch_input_shape': (None, 13),\n",
       "    'dtype': 'float32',\n",
       "    'sparse': False,\n",
       "    'ragged': False,\n",
       "    'name': 'dense_input'}},\n",
       "  {'class_name': 'Dense',\n",
       "   'config': {'name': 'dense',\n",
       "    'trainable': True,\n",
       "    'batch_input_shape': (None, 13),\n",
       "    'dtype': 'float32',\n",
       "    'units': 6,\n",
       "    'activation': 'relu',\n",
       "    'use_bias': True,\n",
       "    'kernel_initializer': {'class_name': 'HeNormal', 'config': {'seed': None}},\n",
       "    'bias_initializer': {'class_name': 'Zeros', 'config': {}},\n",
       "    'kernel_regularizer': None,\n",
       "    'bias_regularizer': None,\n",
       "    'activity_regularizer': None,\n",
       "    'kernel_constraint': None,\n",
       "    'bias_constraint': None}}]}"
      ]
     },
     "execution_count": 24,
     "metadata": {},
     "output_type": "execute_result"
    }
   ],
   "source": [
    "model.get_config()"
   ]
  },
  {
   "cell_type": "code",
   "execution_count": 25,
   "id": "3f891784",
   "metadata": {},
   "outputs": [],
   "source": [
    "model.add( Dense(\n",
    "        units = 4,\n",
    "        activation = \"relu\",\n",
    "        kernel_initializer = \"he_normal\"\n",
    "))"
   ]
  },
  {
   "cell_type": "code",
   "execution_count": 26,
   "id": "ab67ce39",
   "metadata": {},
   "outputs": [
    {
     "data": {
      "text/plain": [
       "{'name': 'sequential',\n",
       " 'layers': [{'class_name': 'InputLayer',\n",
       "   'config': {'batch_input_shape': (None, 13),\n",
       "    'dtype': 'float32',\n",
       "    'sparse': False,\n",
       "    'ragged': False,\n",
       "    'name': 'dense_input'}},\n",
       "  {'class_name': 'Dense',\n",
       "   'config': {'name': 'dense',\n",
       "    'trainable': True,\n",
       "    'batch_input_shape': (None, 13),\n",
       "    'dtype': 'float32',\n",
       "    'units': 6,\n",
       "    'activation': 'relu',\n",
       "    'use_bias': True,\n",
       "    'kernel_initializer': {'class_name': 'HeNormal', 'config': {'seed': None}},\n",
       "    'bias_initializer': {'class_name': 'Zeros', 'config': {}},\n",
       "    'kernel_regularizer': None,\n",
       "    'bias_regularizer': None,\n",
       "    'activity_regularizer': None,\n",
       "    'kernel_constraint': None,\n",
       "    'bias_constraint': None}},\n",
       "  {'class_name': 'Dense',\n",
       "   'config': {'name': 'dense_1',\n",
       "    'trainable': True,\n",
       "    'dtype': 'float32',\n",
       "    'units': 4,\n",
       "    'activation': 'relu',\n",
       "    'use_bias': True,\n",
       "    'kernel_initializer': {'class_name': 'HeNormal', 'config': {'seed': None}},\n",
       "    'bias_initializer': {'class_name': 'Zeros', 'config': {}},\n",
       "    'kernel_regularizer': None,\n",
       "    'bias_regularizer': None,\n",
       "    'activity_regularizer': None,\n",
       "    'kernel_constraint': None,\n",
       "    'bias_constraint': None}}]}"
      ]
     },
     "execution_count": 26,
     "metadata": {},
     "output_type": "execute_result"
    }
   ],
   "source": [
    "model.get_config()"
   ]
  },
  {
   "cell_type": "code",
   "execution_count": 27,
   "id": "bb1ce4c4",
   "metadata": {},
   "outputs": [],
   "source": [
    "model.add(Dense(\n",
    "        units = 3,\n",
    "        activation = \"softmax\"\n",
    "))"
   ]
  },
  {
   "cell_type": "code",
   "execution_count": 28,
   "id": "81c1e193",
   "metadata": {},
   "outputs": [
    {
     "name": "stdout",
     "output_type": "stream",
     "text": [
      "Model: \"sequential\"\n",
      "_________________________________________________________________\n",
      " Layer (type)                Output Shape              Param #   \n",
      "=================================================================\n",
      " dense (Dense)               (None, 6)                 84        \n",
      "                                                                 \n",
      " dense_1 (Dense)             (None, 4)                 28        \n",
      "                                                                 \n",
      " dense_2 (Dense)             (None, 3)                 15        \n",
      "                                                                 \n",
      "=================================================================\n",
      "Total params: 127\n",
      "Trainable params: 127\n",
      "Non-trainable params: 0\n",
      "_________________________________________________________________\n"
     ]
    }
   ],
   "source": [
    "model.summary()"
   ]
  },
  {
   "cell_type": "markdown",
   "id": "d11af574",
   "metadata": {},
   "source": []
  },
  {
   "cell_type": "markdown",
   "id": "754b41b2",
   "metadata": {},
   "source": []
  },
  {
   "cell_type": "code",
   "execution_count": 29,
   "id": "cbc26e0e",
   "metadata": {},
   "outputs": [
    {
     "data": {
      "text/plain": [
       "{'name': 'sequential',\n",
       " 'layers': [{'class_name': 'InputLayer',\n",
       "   'config': {'batch_input_shape': (None, 13),\n",
       "    'dtype': 'float32',\n",
       "    'sparse': False,\n",
       "    'ragged': False,\n",
       "    'name': 'dense_input'}},\n",
       "  {'class_name': 'Dense',\n",
       "   'config': {'name': 'dense',\n",
       "    'trainable': True,\n",
       "    'batch_input_shape': (None, 13),\n",
       "    'dtype': 'float32',\n",
       "    'units': 6,\n",
       "    'activation': 'relu',\n",
       "    'use_bias': True,\n",
       "    'kernel_initializer': {'class_name': 'HeNormal', 'config': {'seed': None}},\n",
       "    'bias_initializer': {'class_name': 'Zeros', 'config': {}},\n",
       "    'kernel_regularizer': None,\n",
       "    'bias_regularizer': None,\n",
       "    'activity_regularizer': None,\n",
       "    'kernel_constraint': None,\n",
       "    'bias_constraint': None}},\n",
       "  {'class_name': 'Dense',\n",
       "   'config': {'name': 'dense_1',\n",
       "    'trainable': True,\n",
       "    'dtype': 'float32',\n",
       "    'units': 4,\n",
       "    'activation': 'relu',\n",
       "    'use_bias': True,\n",
       "    'kernel_initializer': {'class_name': 'HeNormal', 'config': {'seed': None}},\n",
       "    'bias_initializer': {'class_name': 'Zeros', 'config': {}},\n",
       "    'kernel_regularizer': None,\n",
       "    'bias_regularizer': None,\n",
       "    'activity_regularizer': None,\n",
       "    'kernel_constraint': None,\n",
       "    'bias_constraint': None}},\n",
       "  {'class_name': 'Dense',\n",
       "   'config': {'name': 'dense_2',\n",
       "    'trainable': True,\n",
       "    'dtype': 'float32',\n",
       "    'units': 3,\n",
       "    'activation': 'softmax',\n",
       "    'use_bias': True,\n",
       "    'kernel_initializer': {'class_name': 'GlorotUniform',\n",
       "     'config': {'seed': None}},\n",
       "    'bias_initializer': {'class_name': 'Zeros', 'config': {}},\n",
       "    'kernel_regularizer': None,\n",
       "    'bias_regularizer': None,\n",
       "    'activity_regularizer': None,\n",
       "    'kernel_constraint': None,\n",
       "    'bias_constraint': None}}]}"
      ]
     },
     "execution_count": 29,
     "metadata": {},
     "output_type": "execute_result"
    }
   ],
   "source": [
    " model.get_config()"
   ]
  },
  {
   "cell_type": "code",
   "execution_count": 30,
   "id": "d27bf447",
   "metadata": {},
   "outputs": [],
   "source": [
    " model.compile(optimizer= \"adam\" , loss= \"categorical_crossentropy\", metrics=[\"accuracy\"])"
   ]
  },
  {
   "cell_type": "markdown",
   "id": "d94c5a33",
   "metadata": {},
   "source": []
  },
  {
   "cell_type": "code",
   "execution_count": 31,
   "id": "e316bc44",
   "metadata": {},
   "outputs": [
    {
     "name": "stdout",
     "output_type": "stream",
     "text": [
      "Epoch 1/100\n",
      "6/6 [==============================] - 2s 14ms/step - loss: 131.1675 - accuracy: 0.3989\n",
      "Epoch 2/100\n",
      "6/6 [==============================] - 0s 8ms/step - loss: 112.5729 - accuracy: 0.3989\n",
      "Epoch 3/100\n",
      "6/6 [==============================] - 0s 9ms/step - loss: 95.7489 - accuracy: 0.3989\n",
      "Epoch 4/100\n",
      "6/6 [==============================] - 0s 10ms/step - loss: 79.0965 - accuracy: 0.3989\n",
      "Epoch 5/100\n",
      "6/6 [==============================] - 0s 14ms/step - loss: 64.2943 - accuracy: 0.3989\n",
      "Epoch 6/100\n",
      "6/6 [==============================] - 0s 13ms/step - loss: 49.8225 - accuracy: 0.3989\n",
      "Epoch 7/100\n",
      "6/6 [==============================] - 0s 7ms/step - loss: 42.7126 - accuracy: 0.2865\n",
      "Epoch 8/100\n",
      "6/6 [==============================] - 0s 7ms/step - loss: 40.9038 - accuracy: 0.3315\n",
      "Epoch 9/100\n",
      "6/6 [==============================] - 0s 7ms/step - loss: 35.2655 - accuracy: 0.3652\n",
      "Epoch 10/100\n",
      "6/6 [==============================] - 0s 10ms/step - loss: 33.2757 - accuracy: 0.3876\n",
      "Epoch 11/100\n",
      "6/6 [==============================] - 0s 10ms/step - loss: 30.2102 - accuracy: 0.3764\n",
      "Epoch 12/100\n",
      "6/6 [==============================] - 0s 9ms/step - loss: 27.8098 - accuracy: 0.4270\n",
      "Epoch 13/100\n",
      "6/6 [==============================] - 0s 12ms/step - loss: 25.3932 - accuracy: 0.4719\n",
      "Epoch 14/100\n",
      "6/6 [==============================] - 0s 14ms/step - loss: 23.4129 - accuracy: 0.5393\n",
      "Epoch 15/100\n",
      "6/6 [==============================] - 0s 12ms/step - loss: 21.2918 - accuracy: 0.4831\n",
      "Epoch 16/100\n",
      "6/6 [==============================] - 0s 12ms/step - loss: 19.4105 - accuracy: 0.5562\n",
      "Epoch 17/100\n",
      "6/6 [==============================] - ETA: 0s - loss: 11.5243 - accuracy: 0.687 - 0s 9ms/step - loss: 17.5111 - accuracy: 0.5056\n",
      "Epoch 18/100\n",
      "6/6 [==============================] - 0s 10ms/step - loss: 15.5393 - accuracy: 0.5618\n",
      "Epoch 19/100\n",
      "6/6 [==============================] - 0s 15ms/step - loss: 13.7634 - accuracy: 0.5674\n",
      "Epoch 20/100\n",
      "6/6 [==============================] - 0s 12ms/step - loss: 12.0114 - accuracy: 0.5562\n",
      "Epoch 21/100\n",
      "6/6 [==============================] - 0s 13ms/step - loss: 10.2539 - accuracy: 0.6180\n",
      "Epoch 22/100\n",
      "6/6 [==============================] - 0s 7ms/step - loss: 8.4689 - accuracy: 0.5843\n",
      "Epoch 23/100\n",
      "6/6 [==============================] - 0s 7ms/step - loss: 6.7212 - accuracy: 0.6180\n",
      "Epoch 24/100\n",
      "6/6 [==============================] - 0s 6ms/step - loss: 5.1092 - accuracy: 0.6067\n",
      "Epoch 25/100\n",
      "6/6 [==============================] - 0s 7ms/step - loss: 3.3548 - accuracy: 0.6124\n",
      "Epoch 26/100\n",
      "6/6 [==============================] - 0s 8ms/step - loss: 1.6011 - accuracy: 0.5955\n",
      "Epoch 27/100\n",
      "6/6 [==============================] - 0s 12ms/step - loss: 1.2527 - accuracy: 0.4438\n",
      "Epoch 28/100\n",
      "6/6 [==============================] - 0s 7ms/step - loss: 1.3784 - accuracy: 0.5225\n",
      "Epoch 29/100\n",
      "6/6 [==============================] - 0s 8ms/step - loss: 1.2120 - accuracy: 0.4944\n",
      "Epoch 30/100\n",
      "6/6 [==============================] - 0s 9ms/step - loss: 1.0295 - accuracy: 0.4888\n",
      "Epoch 31/100\n",
      "6/6 [==============================] - 0s 7ms/step - loss: 1.0540 - accuracy: 0.5000\n",
      "Epoch 32/100\n",
      "6/6 [==============================] - 0s 10ms/step - loss: 0.9984 - accuracy: 0.5000\n",
      "Epoch 33/100\n",
      "6/6 [==============================] - 0s 6ms/step - loss: 0.9870 - accuracy: 0.4888\n",
      "Epoch 34/100\n",
      "6/6 [==============================] - 0s 9ms/step - loss: 0.9861 - accuracy: 0.5169\n",
      "Epoch 35/100\n",
      "6/6 [==============================] - 0s 9ms/step - loss: 0.9737 - accuracy: 0.5225\n",
      "Epoch 36/100\n",
      "6/6 [==============================] - 0s 9ms/step - loss: 0.9551 - accuracy: 0.5000\n",
      "Epoch 37/100\n",
      "6/6 [==============================] - 0s 9ms/step - loss: 0.9601 - accuracy: 0.5225\n",
      "Epoch 38/100\n",
      "6/6 [==============================] - 0s 7ms/step - loss: 0.9596 - accuracy: 0.5000\n",
      "Epoch 39/100\n",
      "6/6 [==============================] - 0s 7ms/step - loss: 0.9372 - accuracy: 0.5056\n",
      "Epoch 40/100\n",
      "6/6 [==============================] - 0s 8ms/step - loss: 0.9377 - accuracy: 0.5169\n",
      "Epoch 41/100\n",
      "6/6 [==============================] - 0s 8ms/step - loss: 0.9420 - accuracy: 0.5000\n",
      "Epoch 42/100\n",
      "6/6 [==============================] - 0s 8ms/step - loss: 0.9256 - accuracy: 0.5281\n",
      "Epoch 43/100\n",
      "6/6 [==============================] - 0s 6ms/step - loss: 0.9351 - accuracy: 0.4944\n",
      "Epoch 44/100\n",
      "6/6 [==============================] - 0s 7ms/step - loss: 0.9237 - accuracy: 0.5056\n",
      "Epoch 45/100\n",
      "6/6 [==============================] - 0s 9ms/step - loss: 0.9175 - accuracy: 0.5169\n",
      "Epoch 46/100\n",
      "6/6 [==============================] - ETA: 0s - loss: 0.7383 - accuracy: 0.59 - 0s 9ms/step - loss: 0.9166 - accuracy: 0.5056\n",
      "Epoch 47/100\n",
      "6/6 [==============================] - 0s 8ms/step - loss: 0.8992 - accuracy: 0.5337\n",
      "Epoch 48/100\n",
      "6/6 [==============================] - 0s 9ms/step - loss: 0.9039 - accuracy: 0.5281\n",
      "Epoch 49/100\n",
      "6/6 [==============================] - 0s 6ms/step - loss: 0.9114 - accuracy: 0.5225\n",
      "Epoch 50/100\n",
      "6/6 [==============================] - 0s 16ms/step - loss: 0.8992 - accuracy: 0.4831\n",
      "Epoch 51/100\n",
      "6/6 [==============================] - 0s 7ms/step - loss: 0.8916 - accuracy: 0.5281\n",
      "Epoch 52/100\n",
      "6/6 [==============================] - 0s 9ms/step - loss: 0.8887 - accuracy: 0.5225\n",
      "Epoch 53/100\n",
      "6/6 [==============================] - 0s 7ms/step - loss: 0.8827 - accuracy: 0.5281\n",
      "Epoch 54/100\n",
      "6/6 [==============================] - 0s 7ms/step - loss: 0.8757 - accuracy: 0.5337\n",
      "Epoch 55/100\n",
      "6/6 [==============================] - 0s 9ms/step - loss: 0.8660 - accuracy: 0.5337\n",
      "Epoch 56/100\n",
      "6/6 [==============================] - 0s 7ms/step - loss: 0.8742 - accuracy: 0.5225\n",
      "Epoch 57/100\n",
      "6/6 [==============================] - 0s 8ms/step - loss: 0.8685 - accuracy: 0.5225\n",
      "Epoch 58/100\n",
      "6/6 [==============================] - 0s 8ms/step - loss: 0.8892 - accuracy: 0.5112\n",
      "Epoch 59/100\n",
      "6/6 [==============================] - 0s 7ms/step - loss: 0.8901 - accuracy: 0.5225\n",
      "Epoch 60/100\n",
      "6/6 [==============================] - 0s 9ms/step - loss: 0.8895 - accuracy: 0.4944\n",
      "Epoch 61/100\n",
      "6/6 [==============================] - 0s 8ms/step - loss: 0.8477 - accuracy: 0.5506\n",
      "Epoch 62/100\n",
      "6/6 [==============================] - 0s 6ms/step - loss: 0.8465 - accuracy: 0.5225\n",
      "Epoch 63/100\n",
      "6/6 [==============================] - 0s 8ms/step - loss: 0.8449 - accuracy: 0.5618\n",
      "Epoch 64/100\n",
      "6/6 [==============================] - 0s 9ms/step - loss: 0.8379 - accuracy: 0.5337\n",
      "Epoch 65/100\n",
      "6/6 [==============================] - 0s 14ms/step - loss: 0.8272 - accuracy: 0.5225\n",
      "Epoch 66/100\n",
      "6/6 [==============================] - 0s 9ms/step - loss: 0.8326 - accuracy: 0.5337\n",
      "Epoch 67/100\n",
      "6/6 [==============================] - 0s 7ms/step - loss: 0.8438 - accuracy: 0.5225\n",
      "Epoch 68/100\n",
      "6/6 [==============================] - 0s 9ms/step - loss: 0.8271 - accuracy: 0.5225\n",
      "Epoch 69/100\n",
      "6/6 [==============================] - 0s 6ms/step - loss: 0.8364 - accuracy: 0.5393\n",
      "Epoch 70/100\n",
      "6/6 [==============================] - 0s 6ms/step - loss: 0.8175 - accuracy: 0.5506\n",
      "Epoch 71/100\n",
      "6/6 [==============================] - 0s 9ms/step - loss: 0.8151 - accuracy: 0.5337\n",
      "Epoch 72/100\n",
      "6/6 [==============================] - 0s 9ms/step - loss: 0.8034 - accuracy: 0.5562\n",
      "Epoch 73/100\n",
      "6/6 [==============================] - 0s 12ms/step - loss: 0.8294 - accuracy: 0.5225\n",
      "Epoch 74/100\n",
      "6/6 [==============================] - 0s 12ms/step - loss: 0.8039 - accuracy: 0.5393\n",
      "Epoch 75/100\n",
      "6/6 [==============================] - 0s 8ms/step - loss: 0.7915 - accuracy: 0.5393\n",
      "Epoch 76/100\n",
      "6/6 [==============================] - 0s 7ms/step - loss: 0.7904 - accuracy: 0.5618\n",
      "Epoch 77/100\n",
      "6/6 [==============================] - 0s 9ms/step - loss: 0.7995 - accuracy: 0.5393\n",
      "Epoch 78/100\n",
      "6/6 [==============================] - 0s 18ms/step - loss: 0.7951 - accuracy: 0.5787\n",
      "Epoch 79/100\n",
      "6/6 [==============================] - 0s 11ms/step - loss: 0.7803 - accuracy: 0.5393\n",
      "Epoch 80/100\n",
      "6/6 [==============================] - 0s 6ms/step - loss: 0.7715 - accuracy: 0.5618\n",
      "Epoch 81/100\n",
      "6/6 [==============================] - 0s 9ms/step - loss: 0.7692 - accuracy: 0.5506\n",
      "Epoch 82/100\n",
      "6/6 [==============================] - 0s 6ms/step - loss: 0.7628 - accuracy: 0.5506\n",
      "Epoch 83/100\n"
     ]
    },
    {
     "name": "stdout",
     "output_type": "stream",
     "text": [
      "6/6 [==============================] - 0s 6ms/step - loss: 0.7648 - accuracy: 0.5506\n",
      "Epoch 84/100\n",
      "6/6 [==============================] - 0s 6ms/step - loss: 0.7782 - accuracy: 0.5281\n",
      "Epoch 85/100\n",
      "6/6 [==============================] - 0s 6ms/step - loss: 0.7619 - accuracy: 0.5506\n",
      "Epoch 86/100\n",
      "6/6 [==============================] - 0s 16ms/step - loss: 0.7663 - accuracy: 0.5562\n",
      "Epoch 87/100\n",
      "6/6 [==============================] - 0s 12ms/step - loss: 0.7631 - accuracy: 0.5562\n",
      "Epoch 88/100\n",
      "6/6 [==============================] - 0s 9ms/step - loss: 0.7573 - accuracy: 0.5618\n",
      "Epoch 89/100\n",
      "6/6 [==============================] - 0s 8ms/step - loss: 0.7785 - accuracy: 0.5506\n",
      "Epoch 90/100\n",
      "6/6 [==============================] - 0s 8ms/step - loss: 0.7712 - accuracy: 0.5730\n",
      "Epoch 91/100\n",
      "6/6 [==============================] - 0s 8ms/step - loss: 0.7394 - accuracy: 0.5730\n",
      "Epoch 92/100\n",
      "6/6 [==============================] - 0s 10ms/step - loss: 0.7412 - accuracy: 0.5899\n",
      "Epoch 93/100\n",
      "6/6 [==============================] - 0s 7ms/step - loss: 0.7449 - accuracy: 0.5843\n",
      "Epoch 94/100\n",
      "6/6 [==============================] - 0s 8ms/step - loss: 0.7335 - accuracy: 0.5843\n",
      "Epoch 95/100\n",
      "6/6 [==============================] - 0s 7ms/step - loss: 0.7316 - accuracy: 0.5843\n",
      "Epoch 96/100\n",
      "6/6 [==============================] - 0s 7ms/step - loss: 0.7489 - accuracy: 0.6011\n",
      "Epoch 97/100\n",
      "6/6 [==============================] - 0s 7ms/step - loss: 0.7393 - accuracy: 0.5843\n",
      "Epoch 98/100\n",
      "6/6 [==============================] - 0s 7ms/step - loss: 0.7223 - accuracy: 0.5955\n",
      "Epoch 99/100\n",
      "6/6 [==============================] - 0s 7ms/step - loss: 0.7155 - accuracy: 0.5955\n",
      "Epoch 100/100\n",
      "6/6 [==============================] - 0s 7ms/step - loss: 0.7146 - accuracy: 0.5955\n"
     ]
    },
    {
     "data": {
      "text/plain": [
       "<keras.callbacks.History at 0x1e0aafb2d90>"
      ]
     },
     "execution_count": 31,
     "metadata": {},
     "output_type": "execute_result"
    }
   ],
   "source": [
    "model.fit( x , y_cat,epochs=100)"
   ]
  },
  {
   "cell_type": "code",
   "execution_count": 32,
   "id": "08fb03f0",
   "metadata": {},
   "outputs": [
    {
     "data": {
      "text/plain": [
       "[array([[ 0.33154228,  0.21006846,  0.0485413 ,  0.12446729, -0.37099665,\n",
       "         -0.41356957],\n",
       "        [ 0.16166548, -0.27447423,  0.3940643 , -0.53953314,  0.32096735,\n",
       "          0.02310155],\n",
       "        [-0.02592571,  0.02836136, -0.24371077,  0.05714712,  0.06519166,\n",
       "          0.31686297],\n",
       "        [-0.12107692, -0.01769054,  0.13471252, -0.08547745, -0.44501942,\n",
       "          0.10799992],\n",
       "        [ 0.1423031 ,  0.1136314 ,  0.18541436,  0.08317216,  0.7148965 ,\n",
       "         -0.48793253],\n",
       "        [-0.17812593, -0.5543252 , -0.0622266 ,  0.67148393,  0.04717723,\n",
       "          0.7344543 ],\n",
       "        [-0.2486808 ,  0.24658684,  0.86032474, -0.29834777,  0.00911469,\n",
       "          0.24087125],\n",
       "        [-0.0945639 , -0.42895362, -0.41910926, -0.09466897, -0.41187277,\n",
       "          0.07857951],\n",
       "        [ 0.02364065,  0.56898123, -0.10864967,  0.23719391, -0.24446967,\n",
       "         -0.5111544 ],\n",
       "        [ 0.59708923,  0.2846834 , -0.29573962,  0.09477721, -0.03774717,\n",
       "          0.12523282],\n",
       "        [-0.09201969,  0.43613127, -0.42893115,  0.10288277, -0.42611733,\n",
       "          0.17043778],\n",
       "        [-0.3033543 ,  0.11713281,  0.51434577,  0.08856898,  0.1324935 ,\n",
       "         -0.36983243],\n",
       "        [ 0.6349393 ,  0.32636306, -0.13293974, -0.17799816,  0.6629133 ,\n",
       "          0.63616866]], dtype=float32),\n",
       " array([-0.00447896, -0.01476199,  0.        ,  0.        , -0.04566037,\n",
       "        -0.00742663], dtype=float32),\n",
       " array([[ 1.261189  , -0.72304827,  0.67832214,  0.46685913],\n",
       "        [-0.6433085 , -0.44929734,  0.69172657, -0.5729924 ],\n",
       "        [ 0.22366115, -0.31908852, -0.30664504, -0.10272869],\n",
       "        [-0.67082024,  0.48537585, -0.4765246 ,  1.1535004 ],\n",
       "        [-0.25200972, -0.6014587 , -0.36595273,  0.503645  ],\n",
       "        [-0.43775195,  0.5169405 , -0.19793612, -0.11840631]],\n",
       "       dtype=float32),\n",
       " array([ 0.01505667,  0.        , -0.08446275, -0.16512434], dtype=float32),\n",
       " array([[ 0.10177681,  0.72049797,  1.0203847 ],\n",
       "        [ 0.9159874 , -0.68534684, -0.33361542],\n",
       "        [-0.20795096, -0.34157935, -0.5115031 ],\n",
       "        [ 0.6374162 ,  0.4777886 ,  0.4733397 ]], dtype=float32),\n",
       " array([-0.04809634,  0.03874147,  0.03327549], dtype=float32)]"
      ]
     },
     "execution_count": 32,
     "metadata": {},
     "output_type": "execute_result"
    }
   ],
   "source": [
    "model.get_weights()"
   ]
  },
  {
   "cell_type": "code",
   "execution_count": 33,
   "id": "003b3933",
   "metadata": {},
   "outputs": [
    {
     "data": {
      "text/plain": [
       "{'loss': [131.1675262451172,\n",
       "  112.57293701171875,\n",
       "  95.7489242553711,\n",
       "  79.09647369384766,\n",
       "  64.2943115234375,\n",
       "  49.82251739501953,\n",
       "  42.712554931640625,\n",
       "  40.903831481933594,\n",
       "  35.265464782714844,\n",
       "  33.275672912597656,\n",
       "  30.210180282592773,\n",
       "  27.809776306152344,\n",
       "  25.393184661865234,\n",
       "  23.412946701049805,\n",
       "  21.29183578491211,\n",
       "  19.410476684570312,\n",
       "  17.511144638061523,\n",
       "  15.539302825927734,\n",
       "  13.763443946838379,\n",
       "  12.011409759521484,\n",
       "  10.253939628601074,\n",
       "  8.468891143798828,\n",
       "  6.721214771270752,\n",
       "  5.109171390533447,\n",
       "  3.354769229888916,\n",
       "  1.6010913848876953,\n",
       "  1.2527132034301758,\n",
       "  1.378354549407959,\n",
       "  1.2120333909988403,\n",
       "  1.0295109748840332,\n",
       "  1.0540217161178589,\n",
       "  0.9983811378479004,\n",
       "  0.9869998693466187,\n",
       "  0.9860994219779968,\n",
       "  0.9736588597297668,\n",
       "  0.9550932049751282,\n",
       "  0.9601053595542908,\n",
       "  0.9596025347709656,\n",
       "  0.9372134208679199,\n",
       "  0.9377120137214661,\n",
       "  0.941989004611969,\n",
       "  0.9256337881088257,\n",
       "  0.935117244720459,\n",
       "  0.9237369894981384,\n",
       "  0.9175170660018921,\n",
       "  0.9166142344474792,\n",
       "  0.8992117643356323,\n",
       "  0.9038763046264648,\n",
       "  0.9113515615463257,\n",
       "  0.8991634845733643,\n",
       "  0.8915751576423645,\n",
       "  0.8886911869049072,\n",
       "  0.8826525211334229,\n",
       "  0.8757339715957642,\n",
       "  0.8660441040992737,\n",
       "  0.8742498159408569,\n",
       "  0.8684823513031006,\n",
       "  0.8891558647155762,\n",
       "  0.8900694847106934,\n",
       "  0.8895087838172913,\n",
       "  0.8477463722229004,\n",
       "  0.846468448638916,\n",
       "  0.8448545336723328,\n",
       "  0.8378602862358093,\n",
       "  0.8271650671958923,\n",
       "  0.8326181769371033,\n",
       "  0.8437790870666504,\n",
       "  0.8271313905715942,\n",
       "  0.8364318609237671,\n",
       "  0.8174829483032227,\n",
       "  0.8151420950889587,\n",
       "  0.8033812642097473,\n",
       "  0.8293775916099548,\n",
       "  0.8039305806159973,\n",
       "  0.7914580702781677,\n",
       "  0.7903592586517334,\n",
       "  0.7995277047157288,\n",
       "  0.7950618863105774,\n",
       "  0.7802990674972534,\n",
       "  0.7715103626251221,\n",
       "  0.7692232728004456,\n",
       "  0.7627530097961426,\n",
       "  0.7648136019706726,\n",
       "  0.7781990170478821,\n",
       "  0.7619075775146484,\n",
       "  0.7663015127182007,\n",
       "  0.7630741000175476,\n",
       "  0.7573224306106567,\n",
       "  0.7785382270812988,\n",
       "  0.7711632251739502,\n",
       "  0.7394395470619202,\n",
       "  0.7412418127059937,\n",
       "  0.7448912262916565,\n",
       "  0.7334861159324646,\n",
       "  0.7316126227378845,\n",
       "  0.7488616108894348,\n",
       "  0.7393403053283691,\n",
       "  0.7223004102706909,\n",
       "  0.715496301651001,\n",
       "  0.7146109342575073],\n",
       " 'accuracy': [0.3988763988018036,\n",
       "  0.3988763988018036,\n",
       "  0.3988763988018036,\n",
       "  0.3988763988018036,\n",
       "  0.3988763988018036,\n",
       "  0.3988763988018036,\n",
       "  0.28651684522628784,\n",
       "  0.3314606845378876,\n",
       "  0.3651685416698456,\n",
       "  0.38764044642448425,\n",
       "  0.3764044940471649,\n",
       "  0.42696627974510193,\n",
       "  0.47191011905670166,\n",
       "  0.5393258333206177,\n",
       "  0.483146071434021,\n",
       "  0.5561797618865967,\n",
       "  0.5056179761886597,\n",
       "  0.5617977380752563,\n",
       "  0.567415714263916,\n",
       "  0.5561797618865967,\n",
       "  0.617977499961853,\n",
       "  0.584269642829895,\n",
       "  0.617977499961853,\n",
       "  0.6067415475845337,\n",
       "  0.6123595237731934,\n",
       "  0.5955055952072144,\n",
       "  0.4438202381134033,\n",
       "  0.5224719047546387,\n",
       "  0.49438202381134033,\n",
       "  0.48876404762268066,\n",
       "  0.5,\n",
       "  0.5,\n",
       "  0.48876404762268066,\n",
       "  0.516853928565979,\n",
       "  0.5224719047546387,\n",
       "  0.5,\n",
       "  0.5224719047546387,\n",
       "  0.5,\n",
       "  0.5056179761886597,\n",
       "  0.516853928565979,\n",
       "  0.5,\n",
       "  0.5280898809432983,\n",
       "  0.49438202381134033,\n",
       "  0.5056179761886597,\n",
       "  0.516853928565979,\n",
       "  0.5056179761886597,\n",
       "  0.533707857131958,\n",
       "  0.5280898809432983,\n",
       "  0.5224719047546387,\n",
       "  0.483146071434021,\n",
       "  0.5280898809432983,\n",
       "  0.5224719047546387,\n",
       "  0.5280898809432983,\n",
       "  0.533707857131958,\n",
       "  0.533707857131958,\n",
       "  0.5224719047546387,\n",
       "  0.5224719047546387,\n",
       "  0.5112359523773193,\n",
       "  0.5224719047546387,\n",
       "  0.49438202381134033,\n",
       "  0.550561785697937,\n",
       "  0.5224719047546387,\n",
       "  0.5617977380752563,\n",
       "  0.533707857131958,\n",
       "  0.5224719047546387,\n",
       "  0.533707857131958,\n",
       "  0.5224719047546387,\n",
       "  0.5224719047546387,\n",
       "  0.5393258333206177,\n",
       "  0.550561785697937,\n",
       "  0.533707857131958,\n",
       "  0.5561797618865967,\n",
       "  0.5224719047546387,\n",
       "  0.5393258333206177,\n",
       "  0.5393258333206177,\n",
       "  0.5617977380752563,\n",
       "  0.5393258333206177,\n",
       "  0.5786516666412354,\n",
       "  0.5393258333206177,\n",
       "  0.5617977380752563,\n",
       "  0.550561785697937,\n",
       "  0.550561785697937,\n",
       "  0.550561785697937,\n",
       "  0.5280898809432983,\n",
       "  0.550561785697937,\n",
       "  0.5561797618865967,\n",
       "  0.5561797618865967,\n",
       "  0.5617977380752563,\n",
       "  0.550561785697937,\n",
       "  0.5730336904525757,\n",
       "  0.5730336904525757,\n",
       "  0.5898876190185547,\n",
       "  0.584269642829895,\n",
       "  0.584269642829895,\n",
       "  0.584269642829895,\n",
       "  0.601123571395874,\n",
       "  0.584269642829895,\n",
       "  0.5955055952072144,\n",
       "  0.5955055952072144,\n",
       "  0.5955055952072144]}"
      ]
     },
     "execution_count": 33,
     "metadata": {},
     "output_type": "execute_result"
    }
   ],
   "source": [
    "model.history.history"
   ]
  },
  {
   "cell_type": "code",
   "execution_count": null,
   "id": "dbf0e8ec",
   "metadata": {},
   "outputs": [],
   "source": []
  },
  {
   "cell_type": "code",
   "execution_count": 34,
   "id": "f571cf95",
   "metadata": {},
   "outputs": [],
   "source": [
    "my_loss=model.history.history[\"loss\"]"
   ]
  },
  {
   "cell_type": "code",
   "execution_count": 35,
   "id": "1706b9ac",
   "metadata": {},
   "outputs": [
    {
     "data": {
      "text/plain": [
       "list"
      ]
     },
     "execution_count": 35,
     "metadata": {},
     "output_type": "execute_result"
    }
   ],
   "source": [
    "type(my_loss)"
   ]
  },
  {
   "cell_type": "code",
   "execution_count": 36,
   "id": "2fd68cf5",
   "metadata": {},
   "outputs": [],
   "source": [
    "myloss_final = pd.DataFrame(my_loss)\n",
    "\n"
   ]
  },
  {
   "cell_type": "code",
   "execution_count": 37,
   "id": "be4c5332",
   "metadata": {},
   "outputs": [
    {
     "data": {
      "text/plain": [
       "pandas.core.frame.DataFrame"
      ]
     },
     "execution_count": 37,
     "metadata": {},
     "output_type": "execute_result"
    }
   ],
   "source": [
    "type(myloss_final)\n"
   ]
  },
  {
   "cell_type": "code",
   "execution_count": 38,
   "id": "33d6c0a4",
   "metadata": {},
   "outputs": [
    {
     "data": {
      "text/html": [
       "<div>\n",
       "<style scoped>\n",
       "    .dataframe tbody tr th:only-of-type {\n",
       "        vertical-align: middle;\n",
       "    }\n",
       "\n",
       "    .dataframe tbody tr th {\n",
       "        vertical-align: top;\n",
       "    }\n",
       "\n",
       "    .dataframe thead th {\n",
       "        text-align: right;\n",
       "    }\n",
       "</style>\n",
       "<table border=\"1\" class=\"dataframe\">\n",
       "  <thead>\n",
       "    <tr style=\"text-align: right;\">\n",
       "      <th></th>\n",
       "      <th>0</th>\n",
       "    </tr>\n",
       "  </thead>\n",
       "  <tbody>\n",
       "    <tr>\n",
       "      <th>0</th>\n",
       "      <td>131.167526</td>\n",
       "    </tr>\n",
       "    <tr>\n",
       "      <th>1</th>\n",
       "      <td>112.572937</td>\n",
       "    </tr>\n",
       "    <tr>\n",
       "      <th>2</th>\n",
       "      <td>95.748924</td>\n",
       "    </tr>\n",
       "    <tr>\n",
       "      <th>3</th>\n",
       "      <td>79.096474</td>\n",
       "    </tr>\n",
       "    <tr>\n",
       "      <th>4</th>\n",
       "      <td>64.294312</td>\n",
       "    </tr>\n",
       "    <tr>\n",
       "      <th>...</th>\n",
       "      <td>...</td>\n",
       "    </tr>\n",
       "    <tr>\n",
       "      <th>95</th>\n",
       "      <td>0.748862</td>\n",
       "    </tr>\n",
       "    <tr>\n",
       "      <th>96</th>\n",
       "      <td>0.739340</td>\n",
       "    </tr>\n",
       "    <tr>\n",
       "      <th>97</th>\n",
       "      <td>0.722300</td>\n",
       "    </tr>\n",
       "    <tr>\n",
       "      <th>98</th>\n",
       "      <td>0.715496</td>\n",
       "    </tr>\n",
       "    <tr>\n",
       "      <th>99</th>\n",
       "      <td>0.714611</td>\n",
       "    </tr>\n",
       "  </tbody>\n",
       "</table>\n",
       "<p>100 rows × 1 columns</p>\n",
       "</div>"
      ],
      "text/plain": [
       "             0\n",
       "0   131.167526\n",
       "1   112.572937\n",
       "2    95.748924\n",
       "3    79.096474\n",
       "4    64.294312\n",
       "..         ...\n",
       "95    0.748862\n",
       "96    0.739340\n",
       "97    0.722300\n",
       "98    0.715496\n",
       "99    0.714611\n",
       "\n",
       "[100 rows x 1 columns]"
      ]
     },
     "execution_count": 38,
     "metadata": {},
     "output_type": "execute_result"
    }
   ],
   "source": [
    "myloss_final"
   ]
  },
  {
   "cell_type": "code",
   "execution_count": 39,
   "id": "12425739",
   "metadata": {},
   "outputs": [
    {
     "data": {
      "text/plain": [
       "<AxesSubplot:>"
      ]
     },
     "execution_count": 39,
     "metadata": {},
     "output_type": "execute_result"
    },
    {
     "data": {
      "image/png": "[encoded data removed]",
      "text/plain": [
       "<Figure size 432x288 with 1 Axes>"
      ]
     },
     "metadata": {
      "needs_background": "light"
     },
     "output_type": "display_data"
    }
   ],
   "source": [
    "myloss_final.plot()"
   ]
  },
  {
   "cell_type": "code",
   "execution_count": 40,
   "id": "adc702e7",
   "metadata": {},
   "outputs": [
    {
     "data": {
      "text/plain": [
       "[0.3988763988018036,\n",
       " 0.3988763988018036,\n",
       " 0.3988763988018036,\n",
       " 0.3988763988018036,\n",
       " 0.3988763988018036,\n",
       " 0.3988763988018036,\n",
       " 0.28651684522628784,\n",
       " 0.3314606845378876,\n",
       " 0.3651685416698456,\n",
       " 0.38764044642448425,\n",
       " 0.3764044940471649,\n",
       " 0.42696627974510193,\n",
       " 0.47191011905670166,\n",
       " 0.5393258333206177,\n",
       " 0.483146071434021,\n",
       " 0.5561797618865967,\n",
       " 0.5056179761886597,\n",
       " 0.5617977380752563,\n",
       " 0.567415714263916,\n",
       " 0.5561797618865967,\n",
       " 0.617977499961853,\n",
       " 0.584269642829895,\n",
       " 0.617977499961853,\n",
       " 0.6067415475845337,\n",
       " 0.6123595237731934,\n",
       " 0.5955055952072144,\n",
       " 0.4438202381134033,\n",
       " 0.5224719047546387,\n",
       " 0.49438202381134033,\n",
       " 0.48876404762268066,\n",
       " 0.5,\n",
       " 0.5,\n",
       " 0.48876404762268066,\n",
       " 0.516853928565979,\n",
       " 0.5224719047546387,\n",
       " 0.5,\n",
       " 0.5224719047546387,\n",
       " 0.5,\n",
       " 0.5056179761886597,\n",
       " 0.516853928565979,\n",
       " 0.5,\n",
       " 0.5280898809432983,\n",
       " 0.49438202381134033,\n",
       " 0.5056179761886597,\n",
       " 0.516853928565979,\n",
       " 0.5056179761886597,\n",
       " 0.533707857131958,\n",
       " 0.5280898809432983,\n",
       " 0.5224719047546387,\n",
       " 0.483146071434021,\n",
       " 0.5280898809432983,\n",
       " 0.5224719047546387,\n",
       " 0.5280898809432983,\n",
       " 0.533707857131958,\n",
       " 0.533707857131958,\n",
       " 0.5224719047546387,\n",
       " 0.5224719047546387,\n",
       " 0.5112359523773193,\n",
       " 0.5224719047546387,\n",
       " 0.49438202381134033,\n",
       " 0.550561785697937,\n",
       " 0.5224719047546387,\n",
       " 0.5617977380752563,\n",
       " 0.533707857131958,\n",
       " 0.5224719047546387,\n",
       " 0.533707857131958,\n",
       " 0.5224719047546387,\n",
       " 0.5224719047546387,\n",
       " 0.5393258333206177,\n",
       " 0.550561785697937,\n",
       " 0.533707857131958,\n",
       " 0.5561797618865967,\n",
       " 0.5224719047546387,\n",
       " 0.5393258333206177,\n",
       " 0.5393258333206177,\n",
       " 0.5617977380752563,\n",
       " 0.5393258333206177,\n",
       " 0.5786516666412354,\n",
       " 0.5393258333206177,\n",
       " 0.5617977380752563,\n",
       " 0.550561785697937,\n",
       " 0.550561785697937,\n",
       " 0.550561785697937,\n",
       " 0.5280898809432983,\n",
       " 0.550561785697937,\n",
       " 0.5561797618865967,\n",
       " 0.5561797618865967,\n",
       " 0.5617977380752563,\n",
       " 0.550561785697937,\n",
       " 0.5730336904525757,\n",
       " 0.5730336904525757,\n",
       " 0.5898876190185547,\n",
       " 0.584269642829895,\n",
       " 0.584269642829895,\n",
       " 0.584269642829895,\n",
       " 0.601123571395874,\n",
       " 0.584269642829895,\n",
       " 0.5955055952072144,\n",
       " 0.5955055952072144,\n",
       " 0.5955055952072144]"
      ]
     },
     "execution_count": 40,
     "metadata": {},
     "output_type": "execute_result"
    }
   ],
   "source": [
    "model.history.history[\"accuracy\"]"
   ]
  },
  {
   "cell_type": "code",
   "execution_count": null,
   "id": "008f022d",
   "metadata": {},
   "outputs": [],
   "source": []
  },
  {
   "cell_type": "code",
   "execution_count": null,
   "id": "61530470",
   "metadata": {},
   "outputs": [],
   "source": []
  },
  {
   "cell_type": "code",
   "execution_count": null,
   "id": "3a02d50c",
   "metadata": {},
   "outputs": [],
   "source": []
  },
  {
   "cell_type": "code",
   "execution_count": null,
   "id": "4bdee09d",
   "metadata": {},
   "outputs": [],
   "source": []
  }
 ],
 "metadata": {
  "kernelspec": {
   "display_name": "Python 3",
   "language": "python",
   "name": "python3"
  },
  "language_info": {
   "codemirror_mode": {
    "name": "ipython",
    "version": 3
   },
   "file_extension": ".py",
   "mimetype": "text/x-python",
   "name": "python",
   "nbconvert_exporter": "python",
   "pygments_lexer": "ipython3",
   "version": "3.8.8"
  }
 },
 "nbformat": 4,
 "nbformat_minor": 5
}
