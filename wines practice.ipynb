{
 "cells": [
  {
   "cell_type": "code",
   "execution_count": 1,
   "id": "cbee59ca",
   "metadata": {},
   "outputs": [],
   "source": [
    "import pandas as pd"
   ]
  },
  {
   "cell_type": "code",
   "execution_count": 2,
   "id": "c403c861",
   "metadata": {},
   "outputs": [],
   "source": [
    "from keras.models import Sequential"
   ]
  },
  {
   "cell_type": "code",
   "execution_count": 3,
   "id": "20ae3a69",
   "metadata": {},
   "outputs": [],
   "source": [
    "from keras.layers import Dense"
   ]
  },
  {
   "cell_type": "code",
   "execution_count": 4,
   "id": "cb417b15",
   "metadata": {},
   "outputs": [],
   "source": [
    "dataset = pd.read_csv(\"wine.csv\")"
   ]
  },
  {
   "cell_type": "code",
   "execution_count": 5,
   "id": "3276d725",
   "metadata": {},
   "outputs": [
    {
     "data": {
      "text/plain": [
       "Index(['Wine', 'Alcohol', 'Malic.acid', 'Ash', 'Acl', 'Mg', 'Phenols',\n",
       "       'Flavanoids', 'Nonflavanoid.phenols', 'Proanth', 'Color.int', 'Hue',\n",
       "       'OD', 'Proline'],\n",
       "      dtype='object')"
      ]
     },
     "execution_count": 5,
     "metadata": {},
     "output_type": "execute_result"
    }
   ],
   "source": [
    "dataset.columns"
   ]
  },
  {
   "cell_type": "code",
   "execution_count": 6,
   "id": "b9951efc",
   "metadata": {},
   "outputs": [],
   "source": [
    "y=dataset[\"Wine\"]"
   ]
  },
  {
   "cell_type": "code",
   "execution_count": 7,
   "id": "fb8be4cd",
   "metadata": {},
   "outputs": [
    {
     "data": {
      "text/plain": [
       "2    71\n",
       "1    59\n",
       "3    48\n",
       "Name: Wine, dtype: int64"
      ]
     },
     "execution_count": 7,
     "metadata": {},
     "output_type": "execute_result"
    }
   ],
   "source": [
    "y.value_counts()"
   ]
  },
  {
   "cell_type": "code",
   "execution_count": 8,
   "id": "bd7b45c3",
   "metadata": {},
   "outputs": [],
   "source": [
    "y_cat = pd.get_dummies(y)"
   ]
  },
  {
   "cell_type": "code",
   "execution_count": 9,
   "id": "619fdeee",
   "metadata": {},
   "outputs": [
    {
     "data": {
      "text/html": [
       "<div>\n",
       "<style scoped>\n",
       "    .dataframe tbody tr th:only-of-type {\n",
       "        vertical-align: middle;\n",
       "    }\n",
       "\n",
       "    .dataframe tbody tr th {\n",
       "        vertical-align: top;\n",
       "    }\n",
       "\n",
       "    .dataframe thead th {\n",
       "        text-align: right;\n",
       "    }\n",
       "</style>\n",
       "<table border=\"1\" class=\"dataframe\">\n",
       "  <thead>\n",
       "    <tr style=\"text-align: right;\">\n",
       "      <th></th>\n",
       "      <th>1</th>\n",
       "      <th>2</th>\n",
       "      <th>3</th>\n",
       "    </tr>\n",
       "  </thead>\n",
       "  <tbody>\n",
       "    <tr>\n",
       "      <th>0</th>\n",
       "      <td>1</td>\n",
       "      <td>0</td>\n",
       "      <td>0</td>\n",
       "    </tr>\n",
       "    <tr>\n",
       "      <th>1</th>\n",
       "      <td>1</td>\n",
       "      <td>0</td>\n",
       "      <td>0</td>\n",
       "    </tr>\n",
       "    <tr>\n",
       "      <th>2</th>\n",
       "      <td>1</td>\n",
       "      <td>0</td>\n",
       "      <td>0</td>\n",
       "    </tr>\n",
       "    <tr>\n",
       "      <th>3</th>\n",
       "      <td>1</td>\n",
       "      <td>0</td>\n",
       "      <td>0</td>\n",
       "    </tr>\n",
       "    <tr>\n",
       "      <th>4</th>\n",
       "      <td>1</td>\n",
       "      <td>0</td>\n",
       "      <td>0</td>\n",
       "    </tr>\n",
       "    <tr>\n",
       "      <th>...</th>\n",
       "      <td>...</td>\n",
       "      <td>...</td>\n",
       "      <td>...</td>\n",
       "    </tr>\n",
       "    <tr>\n",
       "      <th>173</th>\n",
       "      <td>0</td>\n",
       "      <td>0</td>\n",
       "      <td>1</td>\n",
       "    </tr>\n",
       "    <tr>\n",
       "      <th>174</th>\n",
       "      <td>0</td>\n",
       "      <td>0</td>\n",
       "      <td>1</td>\n",
       "    </tr>\n",
       "    <tr>\n",
       "      <th>175</th>\n",
       "      <td>0</td>\n",
       "      <td>0</td>\n",
       "      <td>1</td>\n",
       "    </tr>\n",
       "    <tr>\n",
       "      <th>176</th>\n",
       "      <td>0</td>\n",
       "      <td>0</td>\n",
       "      <td>1</td>\n",
       "    </tr>\n",
       "    <tr>\n",
       "      <th>177</th>\n",
       "      <td>0</td>\n",
       "      <td>0</td>\n",
       "      <td>1</td>\n",
       "    </tr>\n",
       "  </tbody>\n",
       "</table>\n",
       "<p>178 rows × 3 columns</p>\n",
       "</div>"
      ],
      "text/plain": [
       "     1  2  3\n",
       "0    1  0  0\n",
       "1    1  0  0\n",
       "2    1  0  0\n",
       "3    1  0  0\n",
       "4    1  0  0\n",
       "..  .. .. ..\n",
       "173  0  0  1\n",
       "174  0  0  1\n",
       "175  0  0  1\n",
       "176  0  0  1\n",
       "177  0  0  1\n",
       "\n",
       "[178 rows x 3 columns]"
      ]
     },
     "execution_count": 9,
     "metadata": {},
     "output_type": "execute_result"
    }
   ],
   "source": [
    "y_cat"
   ]
  },
  {
   "cell_type": "code",
   "execution_count": 10,
   "id": "a57f1373",
   "metadata": {},
   "outputs": [
    {
     "data": {
      "text/plain": [
       "(178,)"
      ]
     },
     "execution_count": 10,
     "metadata": {},
     "output_type": "execute_result"
    }
   ],
   "source": [
    "y.shape"
   ]
  },
  {
   "cell_type": "code",
   "execution_count": 11,
   "id": "7022cf2c",
   "metadata": {},
   "outputs": [],
   "source": [
    "x=dataset[['Alcohol', 'Malic.acid', 'Ash', 'Acl', 'Mg', 'Phenols',\n",
    "       'Flavanoids', 'Nonflavanoid.phenols', 'Proanth', 'Color.int', 'Hue',\n",
    "       'OD', 'Proline']]"
   ]
  },
  {
   "cell_type": "code",
   "execution_count": 12,
   "id": "9caf7f84",
   "metadata": {},
   "outputs": [
    {
     "data": {
      "text/plain": [
       "13"
      ]
     },
     "execution_count": 12,
     "metadata": {},
     "output_type": "execute_result"
    }
   ],
   "source": [
    "x.shape[1]"
   ]
  },
  {
   "cell_type": "code",
   "execution_count": 13,
   "id": "d464a099",
   "metadata": {},
   "outputs": [],
   "source": [
    "in_shape =x.shape[1]"
   ]
  },
  {
   "cell_type": "code",
   "execution_count": 14,
   "id": "ce0cdb2a",
   "metadata": {},
   "outputs": [],
   "source": [
    "model = Sequential()"
   ]
  },
  {
   "cell_type": "code",
   "execution_count": 15,
   "id": "41a848fd",
   "metadata": {},
   "outputs": [],
   "source": [
    "model.add( Dense(\n",
    "        units = 7,\n",
    "        input_shape = (in_shape,),\n",
    "        activation = \"relu\",\n",
    "        kernel_initializer = \"he_normal\"\n",
    "))"
   ]
  },
  {
   "cell_type": "code",
   "execution_count": 16,
   "id": "26297bc5",
   "metadata": {},
   "outputs": [
    {
     "name": "stdout",
     "output_type": "stream",
     "text": [
      "Model: \"sequential\"\n",
      "_________________________________________________________________\n",
      " Layer (type)                Output Shape              Param #   \n",
      "=================================================================\n",
      " dense (Dense)               (None, 7)                 98        \n",
      "                                                                 \n",
      "=================================================================\n",
      "Total params: 98\n",
      "Trainable params: 98\n",
      "Non-trainable params: 0\n",
      "_________________________________________________________________\n"
     ]
    }
   ],
   "source": [
    "model.summary()"
   ]
  },
  {
   "cell_type": "code",
   "execution_count": 17,
   "id": "0c0ac6c1",
   "metadata": {},
   "outputs": [
    {
     "data": {
      "text/plain": [
       "{'name': 'sequential',\n",
       " 'layers': [{'class_name': 'InputLayer',\n",
       "   'config': {'batch_input_shape': (None, 13),\n",
       "    'dtype': 'float32',\n",
       "    'sparse': False,\n",
       "    'ragged': False,\n",
       "    'name': 'dense_input'}},\n",
       "  {'class_name': 'Dense',\n",
       "   'config': {'name': 'dense',\n",
       "    'trainable': True,\n",
       "    'batch_input_shape': (None, 13),\n",
       "    'dtype': 'float32',\n",
       "    'units': 7,\n",
       "    'activation': 'relu',\n",
       "    'use_bias': True,\n",
       "    'kernel_initializer': {'class_name': 'HeNormal', 'config': {'seed': None}},\n",
       "    'bias_initializer': {'class_name': 'Zeros', 'config': {}},\n",
       "    'kernel_regularizer': None,\n",
       "    'bias_regularizer': None,\n",
       "    'activity_regularizer': None,\n",
       "    'kernel_constraint': None,\n",
       "    'bias_constraint': None}}]}"
      ]
     },
     "execution_count": 17,
     "metadata": {},
     "output_type": "execute_result"
    }
   ],
   "source": [
    "model.get_config()"
   ]
  },
  {
   "cell_type": "code",
   "execution_count": 18,
   "id": "50a0d6f0",
   "metadata": {},
   "outputs": [],
   "source": [
    "model.add(Dense(\n",
    "        units = 5,\n",
    "        activation = \"relu\",\n",
    "        kernel_initializer = \"he_normal\"\n",
    "))"
   ]
  },
  {
   "cell_type": "code",
   "execution_count": 19,
   "id": "32f7d506",
   "metadata": {},
   "outputs": [
    {
     "name": "stdout",
     "output_type": "stream",
     "text": [
      "Model: \"sequential\"\n",
      "_________________________________________________________________\n",
      " Layer (type)                Output Shape              Param #   \n",
      "=================================================================\n",
      " dense (Dense)               (None, 7)                 98        \n",
      "                                                                 \n",
      " dense_1 (Dense)             (None, 5)                 40        \n",
      "                                                                 \n",
      "=================================================================\n",
      "Total params: 138\n",
      "Trainable params: 138\n",
      "Non-trainable params: 0\n",
      "_________________________________________________________________\n"
     ]
    }
   ],
   "source": [
    "model.summary()"
   ]
  },
  {
   "cell_type": "code",
   "execution_count": 20,
   "id": "35078bd6",
   "metadata": {},
   "outputs": [],
   "source": [
    "model.add(Dense(\n",
    "        units = 5,\n",
    "        activation = \"relu\",\n",
    "        kernel_initializer = \"he_normal\"\n",
    "))"
   ]
  },
  {
   "cell_type": "code",
   "execution_count": 21,
   "id": "9c2015be",
   "metadata": {},
   "outputs": [
    {
     "name": "stdout",
     "output_type": "stream",
     "text": [
      "Model: \"sequential\"\n",
      "_________________________________________________________________\n",
      " Layer (type)                Output Shape              Param #   \n",
      "=================================================================\n",
      " dense (Dense)               (None, 7)                 98        \n",
      "                                                                 \n",
      " dense_1 (Dense)             (None, 5)                 40        \n",
      "                                                                 \n",
      " dense_2 (Dense)             (None, 5)                 30        \n",
      "                                                                 \n",
      "=================================================================\n",
      "Total params: 168\n",
      "Trainable params: 168\n",
      "Non-trainable params: 0\n",
      "_________________________________________________________________\n"
     ]
    }
   ],
   "source": [
    "model.summary()"
   ]
  },
  {
   "cell_type": "code",
   "execution_count": 22,
   "id": "fd1068ae",
   "metadata": {},
   "outputs": [],
   "source": [
    "model.add(Dense(\n",
    "    units = 3,\n",
    "    activation = \"softmax\"\n",
    "))"
   ]
  },
  {
   "cell_type": "code",
   "execution_count": 23,
   "id": "b06f053b",
   "metadata": {},
   "outputs": [
    {
     "name": "stdout",
     "output_type": "stream",
     "text": [
      "Model: \"sequential\"\n",
      "_________________________________________________________________\n",
      " Layer (type)                Output Shape              Param #   \n",
      "=================================================================\n",
      " dense (Dense)               (None, 7)                 98        \n",
      "                                                                 \n",
      " dense_1 (Dense)             (None, 5)                 40        \n",
      "                                                                 \n",
      " dense_2 (Dense)             (None, 5)                 30        \n",
      "                                                                 \n",
      " dense_3 (Dense)             (None, 3)                 18        \n",
      "                                                                 \n",
      "=================================================================\n",
      "Total params: 186\n",
      "Trainable params: 186\n",
      "Non-trainable params: 0\n",
      "_________________________________________________________________\n"
     ]
    }
   ],
   "source": [
    "model.summary()"
   ]
  },
  {
   "cell_type": "code",
   "execution_count": 24,
   "id": "8a7602cf",
   "metadata": {},
   "outputs": [],
   "source": [
    "model.compile(optimizer = \"adam\", loss = \"categorical_crossentropy\",metrics=[\"accuracy\"])"
   ]
  },
  {
   "cell_type": "code",
   "execution_count": 25,
   "id": "4dcdbb40",
   "metadata": {},
   "outputs": [
    {
     "name": "stdout",
     "output_type": "stream",
     "text": [
      "Model: \"sequential\"\n",
      "_________________________________________________________________\n",
      " Layer (type)                Output Shape              Param #   \n",
      "=================================================================\n",
      " dense (Dense)               (None, 7)                 98        \n",
      "                                                                 \n",
      " dense_1 (Dense)             (None, 5)                 40        \n",
      "                                                                 \n",
      " dense_2 (Dense)             (None, 5)                 30        \n",
      "                                                                 \n",
      " dense_3 (Dense)             (None, 3)                 18        \n",
      "                                                                 \n",
      "=================================================================\n",
      "Total params: 186\n",
      "Trainable params: 186\n",
      "Non-trainable params: 0\n",
      "_________________________________________________________________\n"
     ]
    }
   ],
   "source": [
    "model.summary()"
   ]
  },
  {
   "cell_type": "code",
   "execution_count": 26,
   "id": "ab74ac12",
   "metadata": {},
   "outputs": [
    {
     "name": "stdout",
     "output_type": "stream",
     "text": [
      "Epoch 1/100\n",
      "6/6 [==============================] - 1s 13ms/step - loss: 21.0123 - accuracy: 0.1517\n",
      "Epoch 2/100\n",
      "6/6 [==============================] - 0s 16ms/step - loss: 17.5080 - accuracy: 0.0899\n",
      "Epoch 3/100\n",
      "6/6 [==============================] - 0s 9ms/step - loss: 14.3858 - accuracy: 0.0730\n",
      "Epoch 4/100\n",
      "6/6 [==============================] - 0s 11ms/step - loss: 11.1050 - accuracy: 0.0618\n",
      "Epoch 5/100\n",
      "6/6 [==============================] - 0s 19ms/step - loss: 7.6879 - accuracy: 0.0730\n",
      "Epoch 6/100\n",
      "6/6 [==============================] - 0s 9ms/step - loss: 4.1691 - accuracy: 0.1742\n",
      "Epoch 7/100\n",
      "6/6 [==============================] - 0s 9ms/step - loss: 1.9252 - accuracy: 0.3989\n",
      "Epoch 8/100\n",
      "6/6 [==============================] - 0s 10ms/step - loss: 1.9044 - accuracy: 0.5000\n",
      "Epoch 9/100\n",
      "6/6 [==============================] - 0s 8ms/step - loss: 1.1978 - accuracy: 0.4831\n",
      "Epoch 10/100\n",
      "6/6 [==============================] - 0s 7ms/step - loss: 0.9014 - accuracy: 0.6348\n",
      "Epoch 11/100\n",
      "6/6 [==============================] - 0s 10ms/step - loss: 0.8851 - accuracy: 0.6573\n",
      "Epoch 12/100\n",
      "6/6 [==============================] - 0s 9ms/step - loss: 0.8323 - accuracy: 0.6798\n",
      "Epoch 13/100\n",
      "6/6 [==============================] - 0s 9ms/step - loss: 0.8258 - accuracy: 0.6910\n",
      "Epoch 14/100\n",
      "6/6 [==============================] - 0s 18ms/step - loss: 0.7787 - accuracy: 0.7191\n",
      "Epoch 15/100\n",
      "6/6 [==============================] - 0s 37ms/step - loss: 0.7752 - accuracy: 0.6966\n",
      "Epoch 16/100\n",
      "6/6 [==============================] - 0s 26ms/step - loss: 0.7588 - accuracy: 0.6910 0s - loss: 0.7588 - accuracy: 0.69\n",
      "Epoch 17/100\n",
      "6/6 [==============================] - ETA: 0s - loss: 0.7898 - accuracy: 0.71 - 0s 17ms/step - loss: 0.7913 - accuracy: 0.6966\n",
      "Epoch 18/100\n",
      "6/6 [==============================] - ETA: 0s - loss: 0.6469 - accuracy: 0.72 - 0s 17ms/step - loss: 0.7505 - accuracy: 0.6966\n",
      "Epoch 19/100\n",
      "6/6 [==============================] - 0s 9ms/step - loss: 0.7740 - accuracy: 0.6685\n",
      "Epoch 20/100\n",
      "6/6 [==============================] - 0s 13ms/step - loss: 0.7643 - accuracy: 0.6854\n",
      "Epoch 21/100\n",
      "6/6 [==============================] - 0s 9ms/step - loss: 0.7584 - accuracy: 0.7022\n",
      "Epoch 22/100\n",
      "6/6 [==============================] - 0s 19ms/step - loss: 0.7437 - accuracy: 0.7022\n",
      "Epoch 23/100\n",
      "6/6 [==============================] - 0s 23ms/step - loss: 0.7486 - accuracy: 0.6966\n",
      "Epoch 24/100\n",
      "6/6 [==============================] - 0s 16ms/step - loss: 0.7442 - accuracy: 0.7022\n",
      "Epoch 25/100\n",
      "6/6 [==============================] - 0s 14ms/step - loss: 0.7505 - accuracy: 0.7022\n",
      "Epoch 26/100\n",
      "6/6 [==============================] - 0s 15ms/step - loss: 0.7489 - accuracy: 0.7022\n",
      "Epoch 27/100\n",
      "6/6 [==============================] - 0s 11ms/step - loss: 0.7546 - accuracy: 0.7022\n",
      "Epoch 28/100\n",
      "6/6 [==============================] - 0s 8ms/step - loss: 0.7346 - accuracy: 0.7191\n",
      "Epoch 29/100\n",
      "6/6 [==============================] - 0s 7ms/step - loss: 0.7327 - accuracy: 0.7135\n",
      "Epoch 30/100\n",
      "6/6 [==============================] - 0s 7ms/step - loss: 0.7286 - accuracy: 0.7135\n",
      "Epoch 31/100\n",
      "6/6 [==============================] - 0s 8ms/step - loss: 0.7351 - accuracy: 0.7079\n",
      "Epoch 32/100\n",
      "6/6 [==============================] - 0s 9ms/step - loss: 0.7296 - accuracy: 0.6966\n",
      "Epoch 33/100\n",
      "6/6 [==============================] - 0s 10ms/step - loss: 0.7246 - accuracy: 0.7191\n",
      "Epoch 34/100\n",
      "6/6 [==============================] - 0s 9ms/step - loss: 0.7272 - accuracy: 0.7079\n",
      "Epoch 35/100\n",
      "6/6 [==============================] - 0s 16ms/step - loss: 0.7271 - accuracy: 0.7079\n",
      "Epoch 36/100\n",
      "6/6 [==============================] - 0s 44ms/step - loss: 0.7166 - accuracy: 0.7191\n",
      "Epoch 37/100\n",
      "6/6 [==============================] - 0s 22ms/step - loss: 0.7179 - accuracy: 0.7135\n",
      "Epoch 38/100\n",
      "6/6 [==============================] - 0s 8ms/step - loss: 0.7180 - accuracy: 0.7079\n",
      "Epoch 39/100\n",
      "6/6 [==============================] - 0s 20ms/step - loss: 0.7199 - accuracy: 0.7191\n",
      "Epoch 40/100\n",
      "6/6 [==============================] - 0s 26ms/step - loss: 0.7088 - accuracy: 0.7303\n",
      "Epoch 41/100\n",
      "6/6 [==============================] - 0s 27ms/step - loss: 0.7131 - accuracy: 0.7022\n",
      "Epoch 42/100\n",
      "6/6 [==============================] - 0s 22ms/step - loss: 0.7159 - accuracy: 0.7022\n",
      "Epoch 43/100\n",
      "6/6 [==============================] - 0s 17ms/step - loss: 0.7071 - accuracy: 0.7416\n",
      "Epoch 44/100\n",
      "6/6 [==============================] - 0s 20ms/step - loss: 0.7042 - accuracy: 0.7303\n",
      "Epoch 45/100\n",
      "6/6 [==============================] - 0s 17ms/step - loss: 0.7083 - accuracy: 0.7079\n",
      "Epoch 46/100\n",
      "6/6 [==============================] - 0s 27ms/step - loss: 0.6990 - accuracy: 0.7191\n",
      "Epoch 47/100\n",
      "6/6 [==============================] - 0s 27ms/step - loss: 0.7101 - accuracy: 0.7247 0s - loss: 0.7678 - accuracy: 0.\n",
      "Epoch 48/100\n",
      "6/6 [==============================] - 0s 29ms/step - loss: 0.7028 - accuracy: 0.7360\n",
      "Epoch 49/100\n",
      "6/6 [==============================] - 0s 12ms/step - loss: 0.6977 - accuracy: 0.7528\n",
      "Epoch 50/100\n",
      "6/6 [==============================] - 0s 8ms/step - loss: 0.6955 - accuracy: 0.7191\n",
      "Epoch 51/100\n",
      "6/6 [==============================] - 0s 7ms/step - loss: 0.6922 - accuracy: 0.7303\n",
      "Epoch 52/100\n",
      "6/6 [==============================] - 0s 7ms/step - loss: 0.6906 - accuracy: 0.7135\n",
      "Epoch 53/100\n",
      "6/6 [==============================] - 0s 10ms/step - loss: 0.6889 - accuracy: 0.7247\n",
      "Epoch 54/100\n",
      "6/6 [==============================] - 0s 7ms/step - loss: 0.6874 - accuracy: 0.7472\n",
      "Epoch 55/100\n",
      "6/6 [==============================] - 0s 8ms/step - loss: 0.6862 - accuracy: 0.7303\n",
      "Epoch 56/100\n",
      "6/6 [==============================] - 0s 8ms/step - loss: 0.6870 - accuracy: 0.7191\n",
      "Epoch 57/100\n",
      "6/6 [==============================] - 0s 7ms/step - loss: 0.6796 - accuracy: 0.7472\n",
      "Epoch 58/100\n",
      "6/6 [==============================] - 0s 14ms/step - loss: 0.6825 - accuracy: 0.7360\n",
      "Epoch 59/100\n",
      "6/6 [==============================] - 0s 11ms/step - loss: 0.7054 - accuracy: 0.7079\n",
      "Epoch 60/100\n",
      "6/6 [==============================] - 0s 9ms/step - loss: 0.6910 - accuracy: 0.7472\n",
      "Epoch 61/100\n",
      "6/6 [==============================] - 0s 7ms/step - loss: 0.6824 - accuracy: 0.7472\n",
      "Epoch 62/100\n",
      "6/6 [==============================] - 0s 9ms/step - loss: 0.6798 - accuracy: 0.7191\n",
      "Epoch 63/100\n",
      "6/6 [==============================] - 0s 9ms/step - loss: 0.6726 - accuracy: 0.7472\n",
      "Epoch 64/100\n",
      "6/6 [==============================] - 0s 9ms/step - loss: 0.6668 - accuracy: 0.7472\n",
      "Epoch 65/100\n",
      "6/6 [==============================] - 0s 8ms/step - loss: 0.6700 - accuracy: 0.7472\n",
      "Epoch 66/100\n",
      "6/6 [==============================] - 0s 7ms/step - loss: 0.6738 - accuracy: 0.7416\n",
      "Epoch 67/100\n",
      "6/6 [==============================] - 0s 9ms/step - loss: 0.6663 - accuracy: 0.7303\n",
      "Epoch 68/100\n",
      "6/6 [==============================] - 0s 9ms/step - loss: 0.6646 - accuracy: 0.7584\n",
      "Epoch 69/100\n",
      "6/6 [==============================] - 0s 9ms/step - loss: 0.6621 - accuracy: 0.7472\n",
      "Epoch 70/100\n",
      "6/6 [==============================] - 0s 7ms/step - loss: 0.6547 - accuracy: 0.7528\n",
      "Epoch 71/100\n",
      "6/6 [==============================] - 0s 9ms/step - loss: 0.6571 - accuracy: 0.7416\n",
      "Epoch 72/100\n",
      "6/6 [==============================] - 0s 7ms/step - loss: 0.6546 - accuracy: 0.7472\n",
      "Epoch 73/100\n",
      "6/6 [==============================] - 0s 7ms/step - loss: 0.6591 - accuracy: 0.7472\n",
      "Epoch 74/100\n",
      "6/6 [==============================] - 0s 9ms/step - loss: 0.6517 - accuracy: 0.7584\n",
      "Epoch 75/100\n",
      "6/6 [==============================] - 0s 20ms/step - loss: 0.6474 - accuracy: 0.7416\n",
      "Epoch 76/100\n",
      "6/6 [==============================] - 0s 8ms/step - loss: 0.6469 - accuracy: 0.7416\n",
      "Epoch 77/100\n",
      "6/6 [==============================] - 0s 8ms/step - loss: 0.6491 - accuracy: 0.7528\n",
      "Epoch 78/100\n",
      "6/6 [==============================] - 0s 9ms/step - loss: 0.6514 - accuracy: 0.7640\n",
      "Epoch 79/100\n",
      "6/6 [==============================] - 0s 15ms/step - loss: 0.6481 - accuracy: 0.7640\n",
      "Epoch 80/100\n",
      "6/6 [==============================] - 0s 15ms/step - loss: 0.6557 - accuracy: 0.7472\n",
      "Epoch 81/100\n",
      "6/6 [==============================] - 0s 7ms/step - loss: 0.6314 - accuracy: 0.7753\n",
      "Epoch 82/100\n"
     ]
    },
    {
     "name": "stdout",
     "output_type": "stream",
     "text": [
      "6/6 [==============================] - 0s 7ms/step - loss: 0.6419 - accuracy: 0.7584\n",
      "Epoch 83/100\n",
      "6/6 [==============================] - ETA: 0s - loss: 0.5761 - accuracy: 0.77 - 0s 25ms/step - loss: 0.6403 - accuracy: 0.7528\n",
      "Epoch 84/100\n",
      "6/6 [==============================] - 0s 32ms/step - loss: 0.6201 - accuracy: 0.7697\n",
      "Epoch 85/100\n",
      "6/6 [==============================] - 0s 19ms/step - loss: 0.6377 - accuracy: 0.7640\n",
      "Epoch 86/100\n",
      "6/6 [==============================] - 0s 15ms/step - loss: 0.6148 - accuracy: 0.7753\n",
      "Epoch 87/100\n",
      "6/6 [==============================] - 0s 15ms/step - loss: 0.6315 - accuracy: 0.7753\n",
      "Epoch 88/100\n",
      "6/6 [==============================] - 0s 9ms/step - loss: 0.6344 - accuracy: 0.7528\n",
      "Epoch 89/100\n",
      "6/6 [==============================] - 0s 7ms/step - loss: 0.6227 - accuracy: 0.7528\n",
      "Epoch 90/100\n",
      "6/6 [==============================] - 0s 15ms/step - loss: 0.6317 - accuracy: 0.7865\n",
      "Epoch 91/100\n",
      "6/6 [==============================] - 0s 9ms/step - loss: 0.6120 - accuracy: 0.7584\n",
      "Epoch 92/100\n",
      "6/6 [==============================] - 0s 15ms/step - loss: 0.6048 - accuracy: 0.7753\n",
      "Epoch 93/100\n",
      "6/6 [==============================] - 0s 9ms/step - loss: 0.6034 - accuracy: 0.7865\n",
      "Epoch 94/100\n",
      "6/6 [==============================] - 0s 10ms/step - loss: 0.6033 - accuracy: 0.7697\n",
      "Epoch 95/100\n",
      "6/6 [==============================] - 0s 9ms/step - loss: 0.6000 - accuracy: 0.7809\n",
      "Epoch 96/100\n",
      "6/6 [==============================] - 0s 7ms/step - loss: 0.5915 - accuracy: 0.8090\n",
      "Epoch 97/100\n",
      "6/6 [==============================] - 0s 8ms/step - loss: 0.5919 - accuracy: 0.7865\n",
      "Epoch 98/100\n",
      "6/6 [==============================] - 0s 7ms/step - loss: 0.5966 - accuracy: 0.7865\n",
      "Epoch 99/100\n",
      "6/6 [==============================] - 0s 33ms/step - loss: 0.5889 - accuracy: 0.7978\n",
      "Epoch 100/100\n",
      "6/6 [==============================] - 0s 18ms/step - loss: 0.5883 - accuracy: 0.7978\n"
     ]
    },
    {
     "data": {
      "text/plain": [
       "<keras.callbacks.History at 0x1cd041b55b0>"
      ]
     },
     "execution_count": 26,
     "metadata": {},
     "output_type": "execute_result"
    }
   ],
   "source": [
    "model.fit(x , y_cat , epochs = 100 )"
   ]
  },
  {
   "cell_type": "code",
   "execution_count": 27,
   "id": "286db4ca",
   "metadata": {},
   "outputs": [],
   "source": [
    "loss = model.history.history[\"loss\"]"
   ]
  },
  {
   "cell_type": "code",
   "execution_count": 28,
   "id": "63349e6e",
   "metadata": {},
   "outputs": [],
   "source": [
    "loss_org = pd.DataFrame(loss)"
   ]
  },
  {
   "cell_type": "code",
   "execution_count": 29,
   "id": "901c68f1",
   "metadata": {},
   "outputs": [
    {
     "data": {
      "text/plain": [
       "<AxesSubplot:>"
      ]
     },
     "execution_count": 29,
     "metadata": {},
     "output_type": "execute_result"
    },
    {
     "data": {
      "image/png": "[encoded data removed]",
      "text/plain": [
       "<Figure size 432x288 with 1 Axes>"
      ]
     },
     "metadata": {
      "needs_background": "light"
     },
     "output_type": "display_data"
    }
   ],
   "source": [
    "loss_org.plot()"
   ]
  },
  {
   "cell_type": "code",
   "execution_count": 30,
   "id": "bf324be4",
   "metadata": {},
   "outputs": [],
   "source": [
    "accuracy = model.history.history[\"accuracy\"]"
   ]
  },
  {
   "cell_type": "code",
   "execution_count": 31,
   "id": "70e7482d",
   "metadata": {},
   "outputs": [],
   "source": [
    "accuracy_org = pd.DataFrame(accuracy)"
   ]
  },
  {
   "cell_type": "code",
   "execution_count": 32,
   "id": "212f1c08",
   "metadata": {},
   "outputs": [
    {
     "data": {
      "text/plain": [
       "<AxesSubplot:>"
      ]
     },
     "execution_count": 32,
     "metadata": {},
     "output_type": "execute_result"
    },
    {
     "data": {
      "image/png": "[encoded data removed]",
      "text/plain": [
       "<Figure size 432x288 with 1 Axes>"
      ]
     },
     "metadata": {
      "needs_background": "light"
     },
     "output_type": "display_data"
    }
   ],
   "source": [
    "accuracy_org.plot()"
   ]
  },
  {
   "cell_type": "code",
   "execution_count": null,
   "id": "7cc47474",
   "metadata": {},
   "outputs": [],
   "source": []
  }
 ],
 "metadata": {
  "kernelspec": {
   "display_name": "Python 3",
   "language": "python",
   "name": "python3"
  },
  "language_info": {
   "codemirror_mode": {
    "name": "ipython",
    "version": 3
   },
   "file_extension": ".py",
   "mimetype": "text/x-python",
   "name": "python",
   "nbconvert_exporter": "python",
   "pygments_lexer": "ipython3",
   "version": "3.8.8"
  }
 },
 "nbformat": 4,
 "nbformat_minor": 5
}
